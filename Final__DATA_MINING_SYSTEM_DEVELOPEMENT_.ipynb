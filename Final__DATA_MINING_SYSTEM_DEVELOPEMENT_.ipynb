{
  "cells": [
    {
      "cell_type": "markdown",
      "source": [
        "\n",
        "\n",
        "\n",
        "##GROUP MEMBERS\n",
        "\n",
        "1.   MELISSA GIRAMATA\n",
        "2.   MARION MAINA\n",
        "3.   MAXINE BENI\n",
        "\n"
      ],
      "metadata": {
        "id": "tBMRPzSFQF99"
      },
      "id": "tBMRPzSFQF99"
    },
    {
      "cell_type": "markdown",
      "source": [
        "Our project focuses on recommending similar songs to users based on the lyrics they enjoy. Analyzing song lyrics, we offer personalized suggestions aligned with each user's unique musical taste. We used the Spotify Million Song Dataset, containing song names, artist names, links to songs, and song lyrics, for our project aimed at recommending similar songs based on users' listening preferences, focusing on lyrical content. Our preprocessing pipeline involved lowercasing, text cleaning to remove unnecessary characters, tokenization, and stemming using the NLTK library. We then utilized TF-IDF vectorization from scikit-learn to convert lyrics into numerical vectors and computed similarity between songs using cosine similarity. These steps enabled us to provide personalized song suggestions aligned with each user's musical taste, enhancing their music discovery experience.\n",
        "\n",
        "\n",
        "\n",
        "\n",
        "\n",
        "\n",
        "\n"
      ],
      "metadata": {
        "id": "d_d1JqUcQRWk"
      },
      "id": "d_d1JqUcQRWk"
    },
    {
      "cell_type": "markdown",
      "source": [
        "###**COLLECTING THE DATA**"
      ],
      "metadata": {
        "id": "kXs4-LuoR0EB"
      },
      "id": "kXs4-LuoR0EB"
    },
    {
      "cell_type": "markdown",
      "source": [
        "**ABOUT THE DATASET**\n",
        "\n",
        "This is Spotify Million Song Dataset. This dataset contains song names, artists names, link to the song and lyrics.\n",
        "\n",
        "COLUMN IN THE DATASET\n",
        "\n",
        "\n",
        "*  ARTIST :ARTIST NAME\n",
        "*  SONG : SONG LINK\n",
        "*  TEXT : LYRICS\n",
        "*  SOURCE : KAGGLE DATASETS\n",
        "\n",
        "\n",
        "\n",
        "\n"
      ],
      "metadata": {
        "id": "LWphQh_qQdp3"
      },
      "id": "LWphQh_qQdp3"
    },
    {
      "cell_type": "code",
      "execution_count": null,
      "metadata": {
        "id": "50ac34ed"
      },
      "outputs": [],
      "source": [
        "import pandas as pd"
      ],
      "id": "50ac34ed"
    },
    {
      "cell_type": "code",
      "execution_count": null,
      "metadata": {
        "colab": {
          "base_uri": "https://localhost:8080/"
        },
        "id": "GTK5WopmtHnz",
        "outputId": "89ae82be-69d0-42ae-f2e0-63d47de02dea"
      },
      "outputs": [
        {
          "output_type": "stream",
          "name": "stdout",
          "text": [
            "Drive already mounted at /content/drive; to attempt to forcibly remount, call drive.mount(\"/content/drive\", force_remount=True).\n"
          ]
        }
      ],
      "source": [
        "from google.colab import drive\n",
        "drive.mount('/content/drive')"
      ],
      "id": "GTK5WopmtHnz"
    },
    {
      "cell_type": "code",
      "execution_count": null,
      "metadata": {
        "id": "8d218487"
      },
      "outputs": [],
      "source": [
        "df= pd.read_csv(\"/content/drive/MyDrive/Dataset/spotify_millsongdata.csv\")"
      ],
      "id": "8d218487"
    },
    {
      "cell_type": "markdown",
      "source": [
        "###**EXPLORING** **THE** **DATA**"
      ],
      "metadata": {
        "id": "lq5jazIFRkPz"
      },
      "id": "lq5jazIFRkPz"
    },
    {
      "cell_type": "code",
      "execution_count": null,
      "metadata": {
        "colab": {
          "base_uri": "https://localhost:8080/",
          "height": 206
        },
        "id": "79919672",
        "outputId": "13c3a1ae-335f-484b-dee0-9ed18986218a"
      },
      "outputs": [
        {
          "output_type": "execute_result",
          "data": {
            "text/plain": [
              "  artist                   song                                        link  \\\n",
              "0   ABBA  Ahe's My Kind Of Girl  /a/abba/ahes+my+kind+of+girl_20598417.html   \n",
              "1   ABBA       Andante, Andante       /a/abba/andante+andante_20002708.html   \n",
              "2   ABBA         As Good As New        /a/abba/as+good+as+new_20003033.html   \n",
              "3   ABBA                   Bang                  /a/abba/bang_20598415.html   \n",
              "4   ABBA       Bang-A-Boomerang      /a/abba/bang+a+boomerang_20002668.html   \n",
              "\n",
              "                                                text  \n",
              "0  Look at her face, it's a wonderful face  \\r\\nA...  \n",
              "1  Take it easy with me, please  \\r\\nTouch me gen...  \n",
              "2  I'll never know why I had to go  \\r\\nWhy I had...  \n",
              "3  Making somebody happy is a question of give an...  \n",
              "4  Making somebody happy is a question of give an...  "
            ],
            "text/html": [
              "\n",
              "  <div id=\"df-62eb1823-d9ef-449c-9177-fd01c3b986ae\" class=\"colab-df-container\">\n",
              "    <div>\n",
              "<style scoped>\n",
              "    .dataframe tbody tr th:only-of-type {\n",
              "        vertical-align: middle;\n",
              "    }\n",
              "\n",
              "    .dataframe tbody tr th {\n",
              "        vertical-align: top;\n",
              "    }\n",
              "\n",
              "    .dataframe thead th {\n",
              "        text-align: right;\n",
              "    }\n",
              "</style>\n",
              "<table border=\"1\" class=\"dataframe\">\n",
              "  <thead>\n",
              "    <tr style=\"text-align: right;\">\n",
              "      <th></th>\n",
              "      <th>artist</th>\n",
              "      <th>song</th>\n",
              "      <th>link</th>\n",
              "      <th>text</th>\n",
              "    </tr>\n",
              "  </thead>\n",
              "  <tbody>\n",
              "    <tr>\n",
              "      <th>0</th>\n",
              "      <td>ABBA</td>\n",
              "      <td>Ahe's My Kind Of Girl</td>\n",
              "      <td>/a/abba/ahes+my+kind+of+girl_20598417.html</td>\n",
              "      <td>Look at her face, it's a wonderful face  \\r\\nA...</td>\n",
              "    </tr>\n",
              "    <tr>\n",
              "      <th>1</th>\n",
              "      <td>ABBA</td>\n",
              "      <td>Andante, Andante</td>\n",
              "      <td>/a/abba/andante+andante_20002708.html</td>\n",
              "      <td>Take it easy with me, please  \\r\\nTouch me gen...</td>\n",
              "    </tr>\n",
              "    <tr>\n",
              "      <th>2</th>\n",
              "      <td>ABBA</td>\n",
              "      <td>As Good As New</td>\n",
              "      <td>/a/abba/as+good+as+new_20003033.html</td>\n",
              "      <td>I'll never know why I had to go  \\r\\nWhy I had...</td>\n",
              "    </tr>\n",
              "    <tr>\n",
              "      <th>3</th>\n",
              "      <td>ABBA</td>\n",
              "      <td>Bang</td>\n",
              "      <td>/a/abba/bang_20598415.html</td>\n",
              "      <td>Making somebody happy is a question of give an...</td>\n",
              "    </tr>\n",
              "    <tr>\n",
              "      <th>4</th>\n",
              "      <td>ABBA</td>\n",
              "      <td>Bang-A-Boomerang</td>\n",
              "      <td>/a/abba/bang+a+boomerang_20002668.html</td>\n",
              "      <td>Making somebody happy is a question of give an...</td>\n",
              "    </tr>\n",
              "  </tbody>\n",
              "</table>\n",
              "</div>\n",
              "    <div class=\"colab-df-buttons\">\n",
              "\n",
              "  <div class=\"colab-df-container\">\n",
              "    <button class=\"colab-df-convert\" onclick=\"convertToInteractive('df-62eb1823-d9ef-449c-9177-fd01c3b986ae')\"\n",
              "            title=\"Convert this dataframe to an interactive table.\"\n",
              "            style=\"display:none;\">\n",
              "\n",
              "  <svg xmlns=\"http://www.w3.org/2000/svg\" height=\"24px\" viewBox=\"0 -960 960 960\">\n",
              "    <path d=\"M120-120v-720h720v720H120Zm60-500h600v-160H180v160Zm220 220h160v-160H400v160Zm0 220h160v-160H400v160ZM180-400h160v-160H180v160Zm440 0h160v-160H620v160ZM180-180h160v-160H180v160Zm440 0h160v-160H620v160Z\"/>\n",
              "  </svg>\n",
              "    </button>\n",
              "\n",
              "  <style>\n",
              "    .colab-df-container {\n",
              "      display:flex;\n",
              "      gap: 12px;\n",
              "    }\n",
              "\n",
              "    .colab-df-convert {\n",
              "      background-color: #E8F0FE;\n",
              "      border: none;\n",
              "      border-radius: 50%;\n",
              "      cursor: pointer;\n",
              "      display: none;\n",
              "      fill: #1967D2;\n",
              "      height: 32px;\n",
              "      padding: 0 0 0 0;\n",
              "      width: 32px;\n",
              "    }\n",
              "\n",
              "    .colab-df-convert:hover {\n",
              "      background-color: #E2EBFA;\n",
              "      box-shadow: 0px 1px 2px rgba(60, 64, 67, 0.3), 0px 1px 3px 1px rgba(60, 64, 67, 0.15);\n",
              "      fill: #174EA6;\n",
              "    }\n",
              "\n",
              "    .colab-df-buttons div {\n",
              "      margin-bottom: 4px;\n",
              "    }\n",
              "\n",
              "    [theme=dark] .colab-df-convert {\n",
              "      background-color: #3B4455;\n",
              "      fill: #D2E3FC;\n",
              "    }\n",
              "\n",
              "    [theme=dark] .colab-df-convert:hover {\n",
              "      background-color: #434B5C;\n",
              "      box-shadow: 0px 1px 3px 1px rgba(0, 0, 0, 0.15);\n",
              "      filter: drop-shadow(0px 1px 2px rgba(0, 0, 0, 0.3));\n",
              "      fill: #FFFFFF;\n",
              "    }\n",
              "  </style>\n",
              "\n",
              "    <script>\n",
              "      const buttonEl =\n",
              "        document.querySelector('#df-62eb1823-d9ef-449c-9177-fd01c3b986ae button.colab-df-convert');\n",
              "      buttonEl.style.display =\n",
              "        google.colab.kernel.accessAllowed ? 'block' : 'none';\n",
              "\n",
              "      async function convertToInteractive(key) {\n",
              "        const element = document.querySelector('#df-62eb1823-d9ef-449c-9177-fd01c3b986ae');\n",
              "        const dataTable =\n",
              "          await google.colab.kernel.invokeFunction('convertToInteractive',\n",
              "                                                    [key], {});\n",
              "        if (!dataTable) return;\n",
              "\n",
              "        const docLinkHtml = 'Like what you see? Visit the ' +\n",
              "          '<a target=\"_blank\" href=https://colab.research.google.com/notebooks/data_table.ipynb>data table notebook</a>'\n",
              "          + ' to learn more about interactive tables.';\n",
              "        element.innerHTML = '';\n",
              "        dataTable['output_type'] = 'display_data';\n",
              "        await google.colab.output.renderOutput(dataTable, element);\n",
              "        const docLink = document.createElement('div');\n",
              "        docLink.innerHTML = docLinkHtml;\n",
              "        element.appendChild(docLink);\n",
              "      }\n",
              "    </script>\n",
              "  </div>\n",
              "\n",
              "\n",
              "<div id=\"df-28da9015-29b3-4893-8630-3e619343ae5a\">\n",
              "  <button class=\"colab-df-quickchart\" onclick=\"quickchart('df-28da9015-29b3-4893-8630-3e619343ae5a')\"\n",
              "            title=\"Suggest charts\"\n",
              "            style=\"display:none;\">\n",
              "\n",
              "<svg xmlns=\"http://www.w3.org/2000/svg\" height=\"24px\"viewBox=\"0 0 24 24\"\n",
              "     width=\"24px\">\n",
              "    <g>\n",
              "        <path d=\"M19 3H5c-1.1 0-2 .9-2 2v14c0 1.1.9 2 2 2h14c1.1 0 2-.9 2-2V5c0-1.1-.9-2-2-2zM9 17H7v-7h2v7zm4 0h-2V7h2v10zm4 0h-2v-4h2v4z\"/>\n",
              "    </g>\n",
              "</svg>\n",
              "  </button>\n",
              "\n",
              "<style>\n",
              "  .colab-df-quickchart {\n",
              "      --bg-color: #E8F0FE;\n",
              "      --fill-color: #1967D2;\n",
              "      --hover-bg-color: #E2EBFA;\n",
              "      --hover-fill-color: #174EA6;\n",
              "      --disabled-fill-color: #AAA;\n",
              "      --disabled-bg-color: #DDD;\n",
              "  }\n",
              "\n",
              "  [theme=dark] .colab-df-quickchart {\n",
              "      --bg-color: #3B4455;\n",
              "      --fill-color: #D2E3FC;\n",
              "      --hover-bg-color: #434B5C;\n",
              "      --hover-fill-color: #FFFFFF;\n",
              "      --disabled-bg-color: #3B4455;\n",
              "      --disabled-fill-color: #666;\n",
              "  }\n",
              "\n",
              "  .colab-df-quickchart {\n",
              "    background-color: var(--bg-color);\n",
              "    border: none;\n",
              "    border-radius: 50%;\n",
              "    cursor: pointer;\n",
              "    display: none;\n",
              "    fill: var(--fill-color);\n",
              "    height: 32px;\n",
              "    padding: 0;\n",
              "    width: 32px;\n",
              "  }\n",
              "\n",
              "  .colab-df-quickchart:hover {\n",
              "    background-color: var(--hover-bg-color);\n",
              "    box-shadow: 0 1px 2px rgba(60, 64, 67, 0.3), 0 1px 3px 1px rgba(60, 64, 67, 0.15);\n",
              "    fill: var(--button-hover-fill-color);\n",
              "  }\n",
              "\n",
              "  .colab-df-quickchart-complete:disabled,\n",
              "  .colab-df-quickchart-complete:disabled:hover {\n",
              "    background-color: var(--disabled-bg-color);\n",
              "    fill: var(--disabled-fill-color);\n",
              "    box-shadow: none;\n",
              "  }\n",
              "\n",
              "  .colab-df-spinner {\n",
              "    border: 2px solid var(--fill-color);\n",
              "    border-color: transparent;\n",
              "    border-bottom-color: var(--fill-color);\n",
              "    animation:\n",
              "      spin 1s steps(1) infinite;\n",
              "  }\n",
              "\n",
              "  @keyframes spin {\n",
              "    0% {\n",
              "      border-color: transparent;\n",
              "      border-bottom-color: var(--fill-color);\n",
              "      border-left-color: var(--fill-color);\n",
              "    }\n",
              "    20% {\n",
              "      border-color: transparent;\n",
              "      border-left-color: var(--fill-color);\n",
              "      border-top-color: var(--fill-color);\n",
              "    }\n",
              "    30% {\n",
              "      border-color: transparent;\n",
              "      border-left-color: var(--fill-color);\n",
              "      border-top-color: var(--fill-color);\n",
              "      border-right-color: var(--fill-color);\n",
              "    }\n",
              "    40% {\n",
              "      border-color: transparent;\n",
              "      border-right-color: var(--fill-color);\n",
              "      border-top-color: var(--fill-color);\n",
              "    }\n",
              "    60% {\n",
              "      border-color: transparent;\n",
              "      border-right-color: var(--fill-color);\n",
              "    }\n",
              "    80% {\n",
              "      border-color: transparent;\n",
              "      border-right-color: var(--fill-color);\n",
              "      border-bottom-color: var(--fill-color);\n",
              "    }\n",
              "    90% {\n",
              "      border-color: transparent;\n",
              "      border-bottom-color: var(--fill-color);\n",
              "    }\n",
              "  }\n",
              "</style>\n",
              "\n",
              "  <script>\n",
              "    async function quickchart(key) {\n",
              "      const quickchartButtonEl =\n",
              "        document.querySelector('#' + key + ' button');\n",
              "      quickchartButtonEl.disabled = true;  // To prevent multiple clicks.\n",
              "      quickchartButtonEl.classList.add('colab-df-spinner');\n",
              "      try {\n",
              "        const charts = await google.colab.kernel.invokeFunction(\n",
              "            'suggestCharts', [key], {});\n",
              "      } catch (error) {\n",
              "        console.error('Error during call to suggestCharts:', error);\n",
              "      }\n",
              "      quickchartButtonEl.classList.remove('colab-df-spinner');\n",
              "      quickchartButtonEl.classList.add('colab-df-quickchart-complete');\n",
              "    }\n",
              "    (() => {\n",
              "      let quickchartButtonEl =\n",
              "        document.querySelector('#df-28da9015-29b3-4893-8630-3e619343ae5a button');\n",
              "      quickchartButtonEl.style.display =\n",
              "        google.colab.kernel.accessAllowed ? 'block' : 'none';\n",
              "    })();\n",
              "  </script>\n",
              "</div>\n",
              "    </div>\n",
              "  </div>\n"
            ],
            "application/vnd.google.colaboratory.intrinsic+json": {
              "type": "dataframe",
              "variable_name": "df",
              "summary": "{\n  \"name\": \"df\",\n  \"rows\": 57650,\n  \"fields\": [\n    {\n      \"column\": \"artist\",\n      \"properties\": {\n        \"dtype\": \"category\",\n        \"num_unique_values\": 643,\n        \"samples\": [\n          \"Ziggy Marley\",\n          \"O.A.R.\",\n          \"Styx\"\n        ],\n        \"semantic_type\": \"\",\n        \"description\": \"\"\n      }\n    },\n    {\n      \"column\": \"song\",\n      \"properties\": {\n        \"dtype\": \"string\",\n        \"num_unique_values\": 44824,\n        \"samples\": [\n          \"Tear Me Down\",\n          \"Lakky Lady\",\n          \"They All Went To Mexico\"\n        ],\n        \"semantic_type\": \"\",\n        \"description\": \"\"\n      }\n    },\n    {\n      \"column\": \"link\",\n      \"properties\": {\n        \"dtype\": \"string\",\n        \"num_unique_values\": 57650,\n        \"samples\": [\n          \"/w/wishbone+ash/right+or+wrong_20147150.html\",\n          \"/a/aerosmith/this+little+light+of+mine_20644484.html\",\n          \"/f/fall+out+boy/dance+dance_10113666.html\"\n        ],\n        \"semantic_type\": \"\",\n        \"description\": \"\"\n      }\n    },\n    {\n      \"column\": \"text\",\n      \"properties\": {\n        \"dtype\": \"string\",\n        \"num_unique_values\": 57494,\n        \"samples\": [\n          \"When the grey skies turn to blue  \\r\\nAnd the dark clouds blow away  \\r\\nIn the morning of a new life  \\r\\nWhen the sun comes shining through  \\r\\nWhen the grey skies turn to blue  \\r\\nIn the morning of a new life  \\r\\nWhen the sun comes shining through  \\r\\nWhen the grey skies turn to blue  \\r\\nMeet me on a bright and windy day  \\r\\nWhen the breeze has blown  \\r\\nThe gray skies far away  \\r\\nHigh upon a hillside  \\r\\nWhen the sun comes shining through  \\r\\nAnd the grey skies turn to blue  \\r\\nWhen the grey skies turn to blue  \\r\\nWhen the grey skies turn to blue  \\r\\n\\r\\n\",\n          \"I met a girl a wonderful girl  \\r\\nWho's really got a lot to recommend her for a girl  \\r\\nFabulous creature without any doubt  \\r\\nHey what am I getting so excited about  \\r\\nShe's just a girl an everyday girl  \\r\\nAnd yet I guess she's really rather special for a girl  \\r\\nFor once you've seen her the others are not  \\r\\nHey what am I getting so excited about  \\r\\nBut so what what has she got others have not  \\r\\nTwo eyes two lips a nose all girls have some of those  \\r\\nBut when she looks up at me what do I see  \\r\\nThe most enchanting face my pulse begins to race  \\r\\nHey I met a girl a marvelous girl  \\r\\nShe rarer than uranium and fairer than a pearl  \\r\\nFound me a treasure and I want to shout  \\r\\nHey what am I getting so excited about  \\r\\nBut so what what has she got others have not  \\r\\nTwo eyes two lips a nose all girls have some of those  \\r\\nBut when she looks up at me what do I see  \\r\\nThe most enchanting face my pulse begins to race  \\r\\n(I got a girl a marvelous girl)  \\r\\n(She rarer than uranium and fairer than a pearl)  \\r\\nFound me a treasure and I want to shout  \\r\\nThis is what am I getting so excited about  \\r\\n(He met a girl) and I fell in love today\\r\\n\\r\\n\",\n          \"She's over by the corner  \\r\\nGot her hands by her sides  \\r\\nThey hit her harder harder harder  \\r\\nTill they thought she might die  \\r\\n  \\r\\nWell I got a foggy notion,  \\r\\nDo it again  \\r\\nOver by the corner,  \\r\\nDo it again  \\r\\nI got my calamine lotion baby,  \\r\\nDo it again  \\r\\nI got a foggy notion,  \\r\\nDo it again  \\r\\n  \\r\\nShe made me do something  \\r\\nThat I never did before  \\r\\nI rushed right down  \\r\\nTo a flower store  \\r\\nI bought her a bundle  \\r\\nA beautiful batch  \\r\\nDon't you know something,  \\r\\nShe sent 'em right back  \\r\\n  \\r\\nSally Mae, Sally Mae,  \\r\\nSally Mae, Sally Mae  \\r\\nSally Mae, Sally Mae,  \\r\\nSally Mae, Sally Mae\\r\\n\\r\\n\"\n        ],\n        \"semantic_type\": \"\",\n        \"description\": \"\"\n      }\n    }\n  ]\n}"
            }
          },
          "metadata": {},
          "execution_count": 4
        }
      ],
      "source": [
        "df.head(5)"
      ],
      "id": "79919672"
    },
    {
      "cell_type": "code",
      "execution_count": null,
      "metadata": {
        "colab": {
          "base_uri": "https://localhost:8080/",
          "height": 206
        },
        "id": "b61c723f",
        "outputId": "fd2f801f-1bed-471f-b412-f92d73153ebf"
      },
      "outputs": [
        {
          "output_type": "execute_result",
          "data": {
            "text/plain": [
              "             artist           song  \\\n",
              "57645  Ziggy Marley  Good Old Days   \n",
              "57646  Ziggy Marley  Hand To Mouth   \n",
              "57647          Zwan   Come With Me   \n",
              "57648          Zwan         Desire   \n",
              "57649          Zwan      Heartsong   \n",
              "\n",
              "                                              link  \\\n",
              "57645  /z/ziggy+marley/good+old+days_10198588.html   \n",
              "57646  /z/ziggy+marley/hand+to+mouth_20531167.html   \n",
              "57647           /z/zwan/come+with+me_20148981.html   \n",
              "57648                 /z/zwan/desire_20148986.html   \n",
              "57649              /z/zwan/heartsong_20148991.html   \n",
              "\n",
              "                                                    text  \n",
              "57645  Irie days come on play  \\r\\nLet the angels fly...  \n",
              "57646  Power to the workers  \\r\\nMore power  \\r\\nPowe...  \n",
              "57647  all you need  \\r\\nis something i'll believe  \\...  \n",
              "57648  northern star  \\r\\nam i frightened  \\r\\nwhere ...  \n",
              "57649  come in  \\r\\nmake yourself at home  \\r\\ni'm a ...  "
            ],
            "text/html": [
              "\n",
              "  <div id=\"df-d79ef6b1-06bc-4bbd-b48e-06cae1953fa7\" class=\"colab-df-container\">\n",
              "    <div>\n",
              "<style scoped>\n",
              "    .dataframe tbody tr th:only-of-type {\n",
              "        vertical-align: middle;\n",
              "    }\n",
              "\n",
              "    .dataframe tbody tr th {\n",
              "        vertical-align: top;\n",
              "    }\n",
              "\n",
              "    .dataframe thead th {\n",
              "        text-align: right;\n",
              "    }\n",
              "</style>\n",
              "<table border=\"1\" class=\"dataframe\">\n",
              "  <thead>\n",
              "    <tr style=\"text-align: right;\">\n",
              "      <th></th>\n",
              "      <th>artist</th>\n",
              "      <th>song</th>\n",
              "      <th>link</th>\n",
              "      <th>text</th>\n",
              "    </tr>\n",
              "  </thead>\n",
              "  <tbody>\n",
              "    <tr>\n",
              "      <th>57645</th>\n",
              "      <td>Ziggy Marley</td>\n",
              "      <td>Good Old Days</td>\n",
              "      <td>/z/ziggy+marley/good+old+days_10198588.html</td>\n",
              "      <td>Irie days come on play  \\r\\nLet the angels fly...</td>\n",
              "    </tr>\n",
              "    <tr>\n",
              "      <th>57646</th>\n",
              "      <td>Ziggy Marley</td>\n",
              "      <td>Hand To Mouth</td>\n",
              "      <td>/z/ziggy+marley/hand+to+mouth_20531167.html</td>\n",
              "      <td>Power to the workers  \\r\\nMore power  \\r\\nPowe...</td>\n",
              "    </tr>\n",
              "    <tr>\n",
              "      <th>57647</th>\n",
              "      <td>Zwan</td>\n",
              "      <td>Come With Me</td>\n",
              "      <td>/z/zwan/come+with+me_20148981.html</td>\n",
              "      <td>all you need  \\r\\nis something i'll believe  \\...</td>\n",
              "    </tr>\n",
              "    <tr>\n",
              "      <th>57648</th>\n",
              "      <td>Zwan</td>\n",
              "      <td>Desire</td>\n",
              "      <td>/z/zwan/desire_20148986.html</td>\n",
              "      <td>northern star  \\r\\nam i frightened  \\r\\nwhere ...</td>\n",
              "    </tr>\n",
              "    <tr>\n",
              "      <th>57649</th>\n",
              "      <td>Zwan</td>\n",
              "      <td>Heartsong</td>\n",
              "      <td>/z/zwan/heartsong_20148991.html</td>\n",
              "      <td>come in  \\r\\nmake yourself at home  \\r\\ni'm a ...</td>\n",
              "    </tr>\n",
              "  </tbody>\n",
              "</table>\n",
              "</div>\n",
              "    <div class=\"colab-df-buttons\">\n",
              "\n",
              "  <div class=\"colab-df-container\">\n",
              "    <button class=\"colab-df-convert\" onclick=\"convertToInteractive('df-d79ef6b1-06bc-4bbd-b48e-06cae1953fa7')\"\n",
              "            title=\"Convert this dataframe to an interactive table.\"\n",
              "            style=\"display:none;\">\n",
              "\n",
              "  <svg xmlns=\"http://www.w3.org/2000/svg\" height=\"24px\" viewBox=\"0 -960 960 960\">\n",
              "    <path d=\"M120-120v-720h720v720H120Zm60-500h600v-160H180v160Zm220 220h160v-160H400v160Zm0 220h160v-160H400v160ZM180-400h160v-160H180v160Zm440 0h160v-160H620v160ZM180-180h160v-160H180v160Zm440 0h160v-160H620v160Z\"/>\n",
              "  </svg>\n",
              "    </button>\n",
              "\n",
              "  <style>\n",
              "    .colab-df-container {\n",
              "      display:flex;\n",
              "      gap: 12px;\n",
              "    }\n",
              "\n",
              "    .colab-df-convert {\n",
              "      background-color: #E8F0FE;\n",
              "      border: none;\n",
              "      border-radius: 50%;\n",
              "      cursor: pointer;\n",
              "      display: none;\n",
              "      fill: #1967D2;\n",
              "      height: 32px;\n",
              "      padding: 0 0 0 0;\n",
              "      width: 32px;\n",
              "    }\n",
              "\n",
              "    .colab-df-convert:hover {\n",
              "      background-color: #E2EBFA;\n",
              "      box-shadow: 0px 1px 2px rgba(60, 64, 67, 0.3), 0px 1px 3px 1px rgba(60, 64, 67, 0.15);\n",
              "      fill: #174EA6;\n",
              "    }\n",
              "\n",
              "    .colab-df-buttons div {\n",
              "      margin-bottom: 4px;\n",
              "    }\n",
              "\n",
              "    [theme=dark] .colab-df-convert {\n",
              "      background-color: #3B4455;\n",
              "      fill: #D2E3FC;\n",
              "    }\n",
              "\n",
              "    [theme=dark] .colab-df-convert:hover {\n",
              "      background-color: #434B5C;\n",
              "      box-shadow: 0px 1px 3px 1px rgba(0, 0, 0, 0.15);\n",
              "      filter: drop-shadow(0px 1px 2px rgba(0, 0, 0, 0.3));\n",
              "      fill: #FFFFFF;\n",
              "    }\n",
              "  </style>\n",
              "\n",
              "    <script>\n",
              "      const buttonEl =\n",
              "        document.querySelector('#df-d79ef6b1-06bc-4bbd-b48e-06cae1953fa7 button.colab-df-convert');\n",
              "      buttonEl.style.display =\n",
              "        google.colab.kernel.accessAllowed ? 'block' : 'none';\n",
              "\n",
              "      async function convertToInteractive(key) {\n",
              "        const element = document.querySelector('#df-d79ef6b1-06bc-4bbd-b48e-06cae1953fa7');\n",
              "        const dataTable =\n",
              "          await google.colab.kernel.invokeFunction('convertToInteractive',\n",
              "                                                    [key], {});\n",
              "        if (!dataTable) return;\n",
              "\n",
              "        const docLinkHtml = 'Like what you see? Visit the ' +\n",
              "          '<a target=\"_blank\" href=https://colab.research.google.com/notebooks/data_table.ipynb>data table notebook</a>'\n",
              "          + ' to learn more about interactive tables.';\n",
              "        element.innerHTML = '';\n",
              "        dataTable['output_type'] = 'display_data';\n",
              "        await google.colab.output.renderOutput(dataTable, element);\n",
              "        const docLink = document.createElement('div');\n",
              "        docLink.innerHTML = docLinkHtml;\n",
              "        element.appendChild(docLink);\n",
              "      }\n",
              "    </script>\n",
              "  </div>\n",
              "\n",
              "\n",
              "<div id=\"df-687652b8-3299-49ef-8d75-b2e34df78573\">\n",
              "  <button class=\"colab-df-quickchart\" onclick=\"quickchart('df-687652b8-3299-49ef-8d75-b2e34df78573')\"\n",
              "            title=\"Suggest charts\"\n",
              "            style=\"display:none;\">\n",
              "\n",
              "<svg xmlns=\"http://www.w3.org/2000/svg\" height=\"24px\"viewBox=\"0 0 24 24\"\n",
              "     width=\"24px\">\n",
              "    <g>\n",
              "        <path d=\"M19 3H5c-1.1 0-2 .9-2 2v14c0 1.1.9 2 2 2h14c1.1 0 2-.9 2-2V5c0-1.1-.9-2-2-2zM9 17H7v-7h2v7zm4 0h-2V7h2v10zm4 0h-2v-4h2v4z\"/>\n",
              "    </g>\n",
              "</svg>\n",
              "  </button>\n",
              "\n",
              "<style>\n",
              "  .colab-df-quickchart {\n",
              "      --bg-color: #E8F0FE;\n",
              "      --fill-color: #1967D2;\n",
              "      --hover-bg-color: #E2EBFA;\n",
              "      --hover-fill-color: #174EA6;\n",
              "      --disabled-fill-color: #AAA;\n",
              "      --disabled-bg-color: #DDD;\n",
              "  }\n",
              "\n",
              "  [theme=dark] .colab-df-quickchart {\n",
              "      --bg-color: #3B4455;\n",
              "      --fill-color: #D2E3FC;\n",
              "      --hover-bg-color: #434B5C;\n",
              "      --hover-fill-color: #FFFFFF;\n",
              "      --disabled-bg-color: #3B4455;\n",
              "      --disabled-fill-color: #666;\n",
              "  }\n",
              "\n",
              "  .colab-df-quickchart {\n",
              "    background-color: var(--bg-color);\n",
              "    border: none;\n",
              "    border-radius: 50%;\n",
              "    cursor: pointer;\n",
              "    display: none;\n",
              "    fill: var(--fill-color);\n",
              "    height: 32px;\n",
              "    padding: 0;\n",
              "    width: 32px;\n",
              "  }\n",
              "\n",
              "  .colab-df-quickchart:hover {\n",
              "    background-color: var(--hover-bg-color);\n",
              "    box-shadow: 0 1px 2px rgba(60, 64, 67, 0.3), 0 1px 3px 1px rgba(60, 64, 67, 0.15);\n",
              "    fill: var(--button-hover-fill-color);\n",
              "  }\n",
              "\n",
              "  .colab-df-quickchart-complete:disabled,\n",
              "  .colab-df-quickchart-complete:disabled:hover {\n",
              "    background-color: var(--disabled-bg-color);\n",
              "    fill: var(--disabled-fill-color);\n",
              "    box-shadow: none;\n",
              "  }\n",
              "\n",
              "  .colab-df-spinner {\n",
              "    border: 2px solid var(--fill-color);\n",
              "    border-color: transparent;\n",
              "    border-bottom-color: var(--fill-color);\n",
              "    animation:\n",
              "      spin 1s steps(1) infinite;\n",
              "  }\n",
              "\n",
              "  @keyframes spin {\n",
              "    0% {\n",
              "      border-color: transparent;\n",
              "      border-bottom-color: var(--fill-color);\n",
              "      border-left-color: var(--fill-color);\n",
              "    }\n",
              "    20% {\n",
              "      border-color: transparent;\n",
              "      border-left-color: var(--fill-color);\n",
              "      border-top-color: var(--fill-color);\n",
              "    }\n",
              "    30% {\n",
              "      border-color: transparent;\n",
              "      border-left-color: var(--fill-color);\n",
              "      border-top-color: var(--fill-color);\n",
              "      border-right-color: var(--fill-color);\n",
              "    }\n",
              "    40% {\n",
              "      border-color: transparent;\n",
              "      border-right-color: var(--fill-color);\n",
              "      border-top-color: var(--fill-color);\n",
              "    }\n",
              "    60% {\n",
              "      border-color: transparent;\n",
              "      border-right-color: var(--fill-color);\n",
              "    }\n",
              "    80% {\n",
              "      border-color: transparent;\n",
              "      border-right-color: var(--fill-color);\n",
              "      border-bottom-color: var(--fill-color);\n",
              "    }\n",
              "    90% {\n",
              "      border-color: transparent;\n",
              "      border-bottom-color: var(--fill-color);\n",
              "    }\n",
              "  }\n",
              "</style>\n",
              "\n",
              "  <script>\n",
              "    async function quickchart(key) {\n",
              "      const quickchartButtonEl =\n",
              "        document.querySelector('#' + key + ' button');\n",
              "      quickchartButtonEl.disabled = true;  // To prevent multiple clicks.\n",
              "      quickchartButtonEl.classList.add('colab-df-spinner');\n",
              "      try {\n",
              "        const charts = await google.colab.kernel.invokeFunction(\n",
              "            'suggestCharts', [key], {});\n",
              "      } catch (error) {\n",
              "        console.error('Error during call to suggestCharts:', error);\n",
              "      }\n",
              "      quickchartButtonEl.classList.remove('colab-df-spinner');\n",
              "      quickchartButtonEl.classList.add('colab-df-quickchart-complete');\n",
              "    }\n",
              "    (() => {\n",
              "      let quickchartButtonEl =\n",
              "        document.querySelector('#df-687652b8-3299-49ef-8d75-b2e34df78573 button');\n",
              "      quickchartButtonEl.style.display =\n",
              "        google.colab.kernel.accessAllowed ? 'block' : 'none';\n",
              "    })();\n",
              "  </script>\n",
              "</div>\n",
              "    </div>\n",
              "  </div>\n"
            ],
            "application/vnd.google.colaboratory.intrinsic+json": {
              "type": "dataframe",
              "summary": "{\n  \"name\": \"df\",\n  \"rows\": 5,\n  \"fields\": [\n    {\n      \"column\": \"artist\",\n      \"properties\": {\n        \"dtype\": \"category\",\n        \"num_unique_values\": 2,\n        \"samples\": [\n          \"Zwan\",\n          \"Ziggy Marley\"\n        ],\n        \"semantic_type\": \"\",\n        \"description\": \"\"\n      }\n    },\n    {\n      \"column\": \"song\",\n      \"properties\": {\n        \"dtype\": \"string\",\n        \"num_unique_values\": 5,\n        \"samples\": [\n          \"Hand To Mouth\",\n          \"Heartsong\"\n        ],\n        \"semantic_type\": \"\",\n        \"description\": \"\"\n      }\n    },\n    {\n      \"column\": \"link\",\n      \"properties\": {\n        \"dtype\": \"string\",\n        \"num_unique_values\": 5,\n        \"samples\": [\n          \"/z/ziggy+marley/hand+to+mouth_20531167.html\",\n          \"/z/zwan/heartsong_20148991.html\"\n        ],\n        \"semantic_type\": \"\",\n        \"description\": \"\"\n      }\n    },\n    {\n      \"column\": \"text\",\n      \"properties\": {\n        \"dtype\": \"string\",\n        \"num_unique_values\": 5,\n        \"samples\": [\n          \"Power to the workers  \\r\\nMore power  \\r\\nPower to the workers  \\r\\nWe need more power  \\r\\nPower to the workers  \\r\\nGot to have more power  \\r\\nPower to the workers  \\r\\nWe need more power  \\r\\n  \\r\\nFree zone workers you working hard everyday  \\r\\nBut all the work you do don't get enough pay  \\r\\nI mad I still don't know why I still don't know why  \\r\\nIs minimum wage for your sufferation have no more toleration  \\r\\n  \\r\\nHand to mouth can't work  \\r\\nHand to mouth can't work  \\r\\nHand to mouth business no it can't work  \\r\\nSchool teachers you working hard educating  \\r\\nBut all the work you do they take you for a play thing  \\r\\nI mad I still don't know why I still don't know why  \\r\\nIs little bit a pay for your contribution and you mean so much to the nation  \\r\\nMe say me naah get enough good weh day  \\r\\nAll thema work is like them naah get no pay  \\r\\nNaah get enough food from weh day  \\r\\nAll the work we work is like we naah get no pay  \\r\\nWatching everything go up in inflation  \\r\\nFood price go up and man pay a go down  \\r\\nAsk some a them  \\r\\nThem telling short long  \\r\\nBut in a corner we wings and a jam  \\r\\nRagga ragga a watch the notion  \\r\\nSay we naah get no good food from weh day  \\r\\nNaah sow no good seed from weh day  \\r\\nNaah sow no good seed from weh day  \\r\\nNaah get enough food weh day  \\r\\nOur nurses saving lives everyday  \\r\\nBut all the lives you save you don't get enough pay  \\r\\n  \\r\\nI mad I still don't know why  \\r\\nI still don't know why  \\r\\nIs little bit a pay for your life savings  \\r\\nWhat a grave they're digging  \\r\\nNow our farmers them digging hard every day  \\r\\nBut all the food they grow import them a say  \\r\\nThat make me mad that make me mad mad mad mad  \\r\\nMad mad mad mad  \\r\\n  \\r\\nIs little bit a pay for your mama too and  \\r\\nYour sister got to shop for two  \\r\\nOh civil servants you working hard everyday and  \\r\\nYou sweating out for your pay  \\r\\nBut I man still don't know why  \\r\\n  \\r\\nStill don't know why is little bit  \\r\\nA pay everyday what you got to take away  \\r\\nWoy! woy! woy! woy! woy!  \\r\\n[cho]  \\r\\nMe say me naah get enough good from weh day  \\r\\nAll the talk we talk is like we naah  \\r\\nNaah get no good yood from weh day all the bawl we bawl  \\r\\nSay them no hear wha we a say  \\r\\nWorkers a the backbone a the whole island  \\r\\nDon't treat them right is total confusion  \\r\\nCan't go no doctor for no medication  \\r\\nSchool but no teacher no education  \\r\\nPay more dollars to the foundation  \\r\\nNaah get enough pay from weh day musician a suffer but a play  \\r\\nSame way engineer a bawl how him pay too small  \\r\\nCan't build him house with no concrete wall  \\r\\nBass man a cry bout him can't get string  \\r\\nHave the contacts and can't bring them in raggamuffin dj and sing  \\r\\n  \\r\\nLord naah get enough good from weh day  \\r\\nAll the talk we talk is like we naah Lord  \\r\\nNaah get no good yood from weh day  \\r\\nAll the bawl we bawl say them no hear wha we a say  \\r\\nWatching everything go up in inflation  \\r\\nFood price go up and man pay a god down  \\r\\nSome a them  \\r\\nThem telling short  \\r\\nLong  \\r\\nRagga ragga deh pon the version  \\r\\nZiggy zaggy a watch the movements\\r\\n\\r\\n\",\n          \"come in  \\r\\nmake yourself at home  \\r\\ni'm a bit late  \\r\\nhate to make you wait  \\r\\n  \\r\\nbut heart songs  \\r\\nare still on my mind  \\r\\nthere's never the time  \\r\\nto write down these lines  \\r\\n  \\r\\nhow can you say  \\r\\nthat i don't need you  \\r\\njust be sure  \\r\\nno more, no less  \\r\\nlet love confess to you  \\r\\nwhat you must do  \\r\\n  \\r\\ncome on  \\r\\nlet's hit the road  \\r\\ni'm up to my tricks  \\r\\ni know they seem cold  \\r\\n  \\r\\nbut heart songs  \\r\\nare all that i am  \\r\\ni use the same words  \\r\\nto say the same things  \\r\\n  \\r\\nhow can you say  \\r\\nthat i don't need you  \\r\\njust be sure  \\r\\nno more, no less  \\r\\nlet love confess to you  \\r\\nwhat you must do  \\r\\n  \\r\\nhow can you say  \\r\\nthat i don't need you  \\r\\njust be sure  \\r\\nno more, no less  \\r\\nlet love confess to you  \\r\\nno less\\r\\n\\r\\n\"\n        ],\n        \"semantic_type\": \"\",\n        \"description\": \"\"\n      }\n    }\n  ]\n}"
            }
          },
          "metadata": {},
          "execution_count": 5
        }
      ],
      "source": [
        "df.tail(5)"
      ],
      "id": "b61c723f"
    },
    {
      "cell_type": "code",
      "execution_count": null,
      "metadata": {
        "colab": {
          "base_uri": "https://localhost:8080/"
        },
        "id": "d7d8fa2a",
        "outputId": "6d0968e5-68b9-4a36-f4a5-4d9359a4cef7"
      },
      "outputs": [
        {
          "output_type": "execute_result",
          "data": {
            "text/plain": [
              "(57650, 4)"
            ]
          },
          "metadata": {},
          "execution_count": 6
        }
      ],
      "source": [
        "df.shape"
      ],
      "id": "d7d8fa2a"
    },
    {
      "cell_type": "code",
      "execution_count": null,
      "metadata": {
        "colab": {
          "base_uri": "https://localhost:8080/"
        },
        "id": "a8fdecf9",
        "outputId": "c8ad7381-9d0d-4fec-c079-003ff1d365bb"
      },
      "outputs": [
        {
          "output_type": "execute_result",
          "data": {
            "text/plain": [
              "artist    0\n",
              "song      0\n",
              "link      0\n",
              "text      0\n",
              "dtype: int64"
            ]
          },
          "metadata": {},
          "execution_count": 7
        }
      ],
      "source": [
        "df.isnull().sum()"
      ],
      "id": "a8fdecf9"
    },
    {
      "cell_type": "markdown",
      "source": [
        "DUE TO THE COMPUTATIONAL POWER OF COLAB WE HAD TO SAMPLE THE DATASET TO AVOID CRASHING THE SYSTEM EVERYTIME WE RUN THE CODE"
      ],
      "metadata": {
        "id": "jFp6U68icugj"
      },
      "id": "jFp6U68icugj"
    },
    {
      "cell_type": "code",
      "execution_count": null,
      "metadata": {
        "id": "dde3d24b"
      },
      "outputs": [],
      "source": [
        "df =df.sample(20000).drop('link', axis=1).reset_index(drop=True)"
      ],
      "id": "dde3d24b"
    },
    {
      "cell_type": "code",
      "execution_count": null,
      "metadata": {
        "colab": {
          "base_uri": "https://localhost:8080/",
          "height": 363
        },
        "id": "cf5ff69f",
        "outputId": "8e6404c9-6021-456d-c525-1bfe11c0048a"
      },
      "outputs": [
        {
          "output_type": "execute_result",
          "data": {
            "text/plain": [
              "                artist                    song  \\\n",
              "0      Michael Jackson       That's What I Get   \n",
              "1         Selena Gomez      Love Will Remember   \n",
              "2         Donna Summer            Heaven Knows   \n",
              "3         Van Morrison       Fire In The Belly   \n",
              "4                  XTC         Me And The Wind   \n",
              "5          Leann Rimes                   Fight   \n",
              "6             Iggy Pop               Not Right   \n",
              "7          Leann Rimes      Me And Bobby Mcgee   \n",
              "8  Stone Temple Pilots  Kitchenware Candy Bars   \n",
              "9           Perry Como                Caterina   \n",
              "\n",
              "                                                text  \n",
              "0  Just when everything was making sense.  \\r\\nYo...  \n",
              "1  Now's all we got and time can't be bought.  \\r...  \n",
              "2  Baby please, please don't take your love from ...  \n",
              "3  Call of the wildest, it's got the best of you ...  \n",
              "4  Me and the wind are celebrating your loss  \\r\\...  \n",
              "5  Hush, Hush why don't you want to talk about it...  \n",
              "6  She's not right  \\r\\nI want somehing I want so...  \n",
              "7  Busted flat in Baton Rouge waitin' for a train...  \n",
              "8  Somebody told me, I know where to go  \\r\\nSome...  \n",
              "9  Caterina  \\r\\nOh! Ho! Ho!  \\r\\n  \\r\\nWhen we k...  "
            ],
            "text/html": [
              "\n",
              "  <div id=\"df-c6d011af-b306-455c-80df-2f06fa136009\" class=\"colab-df-container\">\n",
              "    <div>\n",
              "<style scoped>\n",
              "    .dataframe tbody tr th:only-of-type {\n",
              "        vertical-align: middle;\n",
              "    }\n",
              "\n",
              "    .dataframe tbody tr th {\n",
              "        vertical-align: top;\n",
              "    }\n",
              "\n",
              "    .dataframe thead th {\n",
              "        text-align: right;\n",
              "    }\n",
              "</style>\n",
              "<table border=\"1\" class=\"dataframe\">\n",
              "  <thead>\n",
              "    <tr style=\"text-align: right;\">\n",
              "      <th></th>\n",
              "      <th>artist</th>\n",
              "      <th>song</th>\n",
              "      <th>text</th>\n",
              "    </tr>\n",
              "  </thead>\n",
              "  <tbody>\n",
              "    <tr>\n",
              "      <th>0</th>\n",
              "      <td>Michael Jackson</td>\n",
              "      <td>That's What I Get</td>\n",
              "      <td>Just when everything was making sense.  \\r\\nYo...</td>\n",
              "    </tr>\n",
              "    <tr>\n",
              "      <th>1</th>\n",
              "      <td>Selena Gomez</td>\n",
              "      <td>Love Will Remember</td>\n",
              "      <td>Now's all we got and time can't be bought.  \\r...</td>\n",
              "    </tr>\n",
              "    <tr>\n",
              "      <th>2</th>\n",
              "      <td>Donna Summer</td>\n",
              "      <td>Heaven Knows</td>\n",
              "      <td>Baby please, please don't take your love from ...</td>\n",
              "    </tr>\n",
              "    <tr>\n",
              "      <th>3</th>\n",
              "      <td>Van Morrison</td>\n",
              "      <td>Fire In The Belly</td>\n",
              "      <td>Call of the wildest, it's got the best of you ...</td>\n",
              "    </tr>\n",
              "    <tr>\n",
              "      <th>4</th>\n",
              "      <td>XTC</td>\n",
              "      <td>Me And The Wind</td>\n",
              "      <td>Me and the wind are celebrating your loss  \\r\\...</td>\n",
              "    </tr>\n",
              "    <tr>\n",
              "      <th>5</th>\n",
              "      <td>Leann Rimes</td>\n",
              "      <td>Fight</td>\n",
              "      <td>Hush, Hush why don't you want to talk about it...</td>\n",
              "    </tr>\n",
              "    <tr>\n",
              "      <th>6</th>\n",
              "      <td>Iggy Pop</td>\n",
              "      <td>Not Right</td>\n",
              "      <td>She's not right  \\r\\nI want somehing I want so...</td>\n",
              "    </tr>\n",
              "    <tr>\n",
              "      <th>7</th>\n",
              "      <td>Leann Rimes</td>\n",
              "      <td>Me And Bobby Mcgee</td>\n",
              "      <td>Busted flat in Baton Rouge waitin' for a train...</td>\n",
              "    </tr>\n",
              "    <tr>\n",
              "      <th>8</th>\n",
              "      <td>Stone Temple Pilots</td>\n",
              "      <td>Kitchenware Candy Bars</td>\n",
              "      <td>Somebody told me, I know where to go  \\r\\nSome...</td>\n",
              "    </tr>\n",
              "    <tr>\n",
              "      <th>9</th>\n",
              "      <td>Perry Como</td>\n",
              "      <td>Caterina</td>\n",
              "      <td>Caterina  \\r\\nOh! Ho! Ho!  \\r\\n  \\r\\nWhen we k...</td>\n",
              "    </tr>\n",
              "  </tbody>\n",
              "</table>\n",
              "</div>\n",
              "    <div class=\"colab-df-buttons\">\n",
              "\n",
              "  <div class=\"colab-df-container\">\n",
              "    <button class=\"colab-df-convert\" onclick=\"convertToInteractive('df-c6d011af-b306-455c-80df-2f06fa136009')\"\n",
              "            title=\"Convert this dataframe to an interactive table.\"\n",
              "            style=\"display:none;\">\n",
              "\n",
              "  <svg xmlns=\"http://www.w3.org/2000/svg\" height=\"24px\" viewBox=\"0 -960 960 960\">\n",
              "    <path d=\"M120-120v-720h720v720H120Zm60-500h600v-160H180v160Zm220 220h160v-160H400v160Zm0 220h160v-160H400v160ZM180-400h160v-160H180v160Zm440 0h160v-160H620v160ZM180-180h160v-160H180v160Zm440 0h160v-160H620v160Z\"/>\n",
              "  </svg>\n",
              "    </button>\n",
              "\n",
              "  <style>\n",
              "    .colab-df-container {\n",
              "      display:flex;\n",
              "      gap: 12px;\n",
              "    }\n",
              "\n",
              "    .colab-df-convert {\n",
              "      background-color: #E8F0FE;\n",
              "      border: none;\n",
              "      border-radius: 50%;\n",
              "      cursor: pointer;\n",
              "      display: none;\n",
              "      fill: #1967D2;\n",
              "      height: 32px;\n",
              "      padding: 0 0 0 0;\n",
              "      width: 32px;\n",
              "    }\n",
              "\n",
              "    .colab-df-convert:hover {\n",
              "      background-color: #E2EBFA;\n",
              "      box-shadow: 0px 1px 2px rgba(60, 64, 67, 0.3), 0px 1px 3px 1px rgba(60, 64, 67, 0.15);\n",
              "      fill: #174EA6;\n",
              "    }\n",
              "\n",
              "    .colab-df-buttons div {\n",
              "      margin-bottom: 4px;\n",
              "    }\n",
              "\n",
              "    [theme=dark] .colab-df-convert {\n",
              "      background-color: #3B4455;\n",
              "      fill: #D2E3FC;\n",
              "    }\n",
              "\n",
              "    [theme=dark] .colab-df-convert:hover {\n",
              "      background-color: #434B5C;\n",
              "      box-shadow: 0px 1px 3px 1px rgba(0, 0, 0, 0.15);\n",
              "      filter: drop-shadow(0px 1px 2px rgba(0, 0, 0, 0.3));\n",
              "      fill: #FFFFFF;\n",
              "    }\n",
              "  </style>\n",
              "\n",
              "    <script>\n",
              "      const buttonEl =\n",
              "        document.querySelector('#df-c6d011af-b306-455c-80df-2f06fa136009 button.colab-df-convert');\n",
              "      buttonEl.style.display =\n",
              "        google.colab.kernel.accessAllowed ? 'block' : 'none';\n",
              "\n",
              "      async function convertToInteractive(key) {\n",
              "        const element = document.querySelector('#df-c6d011af-b306-455c-80df-2f06fa136009');\n",
              "        const dataTable =\n",
              "          await google.colab.kernel.invokeFunction('convertToInteractive',\n",
              "                                                    [key], {});\n",
              "        if (!dataTable) return;\n",
              "\n",
              "        const docLinkHtml = 'Like what you see? Visit the ' +\n",
              "          '<a target=\"_blank\" href=https://colab.research.google.com/notebooks/data_table.ipynb>data table notebook</a>'\n",
              "          + ' to learn more about interactive tables.';\n",
              "        element.innerHTML = '';\n",
              "        dataTable['output_type'] = 'display_data';\n",
              "        await google.colab.output.renderOutput(dataTable, element);\n",
              "        const docLink = document.createElement('div');\n",
              "        docLink.innerHTML = docLinkHtml;\n",
              "        element.appendChild(docLink);\n",
              "      }\n",
              "    </script>\n",
              "  </div>\n",
              "\n",
              "\n",
              "<div id=\"df-c7718a17-b8df-4b69-a0d3-f7ff68573fff\">\n",
              "  <button class=\"colab-df-quickchart\" onclick=\"quickchart('df-c7718a17-b8df-4b69-a0d3-f7ff68573fff')\"\n",
              "            title=\"Suggest charts\"\n",
              "            style=\"display:none;\">\n",
              "\n",
              "<svg xmlns=\"http://www.w3.org/2000/svg\" height=\"24px\"viewBox=\"0 0 24 24\"\n",
              "     width=\"24px\">\n",
              "    <g>\n",
              "        <path d=\"M19 3H5c-1.1 0-2 .9-2 2v14c0 1.1.9 2 2 2h14c1.1 0 2-.9 2-2V5c0-1.1-.9-2-2-2zM9 17H7v-7h2v7zm4 0h-2V7h2v10zm4 0h-2v-4h2v4z\"/>\n",
              "    </g>\n",
              "</svg>\n",
              "  </button>\n",
              "\n",
              "<style>\n",
              "  .colab-df-quickchart {\n",
              "      --bg-color: #E8F0FE;\n",
              "      --fill-color: #1967D2;\n",
              "      --hover-bg-color: #E2EBFA;\n",
              "      --hover-fill-color: #174EA6;\n",
              "      --disabled-fill-color: #AAA;\n",
              "      --disabled-bg-color: #DDD;\n",
              "  }\n",
              "\n",
              "  [theme=dark] .colab-df-quickchart {\n",
              "      --bg-color: #3B4455;\n",
              "      --fill-color: #D2E3FC;\n",
              "      --hover-bg-color: #434B5C;\n",
              "      --hover-fill-color: #FFFFFF;\n",
              "      --disabled-bg-color: #3B4455;\n",
              "      --disabled-fill-color: #666;\n",
              "  }\n",
              "\n",
              "  .colab-df-quickchart {\n",
              "    background-color: var(--bg-color);\n",
              "    border: none;\n",
              "    border-radius: 50%;\n",
              "    cursor: pointer;\n",
              "    display: none;\n",
              "    fill: var(--fill-color);\n",
              "    height: 32px;\n",
              "    padding: 0;\n",
              "    width: 32px;\n",
              "  }\n",
              "\n",
              "  .colab-df-quickchart:hover {\n",
              "    background-color: var(--hover-bg-color);\n",
              "    box-shadow: 0 1px 2px rgba(60, 64, 67, 0.3), 0 1px 3px 1px rgba(60, 64, 67, 0.15);\n",
              "    fill: var(--button-hover-fill-color);\n",
              "  }\n",
              "\n",
              "  .colab-df-quickchart-complete:disabled,\n",
              "  .colab-df-quickchart-complete:disabled:hover {\n",
              "    background-color: var(--disabled-bg-color);\n",
              "    fill: var(--disabled-fill-color);\n",
              "    box-shadow: none;\n",
              "  }\n",
              "\n",
              "  .colab-df-spinner {\n",
              "    border: 2px solid var(--fill-color);\n",
              "    border-color: transparent;\n",
              "    border-bottom-color: var(--fill-color);\n",
              "    animation:\n",
              "      spin 1s steps(1) infinite;\n",
              "  }\n",
              "\n",
              "  @keyframes spin {\n",
              "    0% {\n",
              "      border-color: transparent;\n",
              "      border-bottom-color: var(--fill-color);\n",
              "      border-left-color: var(--fill-color);\n",
              "    }\n",
              "    20% {\n",
              "      border-color: transparent;\n",
              "      border-left-color: var(--fill-color);\n",
              "      border-top-color: var(--fill-color);\n",
              "    }\n",
              "    30% {\n",
              "      border-color: transparent;\n",
              "      border-left-color: var(--fill-color);\n",
              "      border-top-color: var(--fill-color);\n",
              "      border-right-color: var(--fill-color);\n",
              "    }\n",
              "    40% {\n",
              "      border-color: transparent;\n",
              "      border-right-color: var(--fill-color);\n",
              "      border-top-color: var(--fill-color);\n",
              "    }\n",
              "    60% {\n",
              "      border-color: transparent;\n",
              "      border-right-color: var(--fill-color);\n",
              "    }\n",
              "    80% {\n",
              "      border-color: transparent;\n",
              "      border-right-color: var(--fill-color);\n",
              "      border-bottom-color: var(--fill-color);\n",
              "    }\n",
              "    90% {\n",
              "      border-color: transparent;\n",
              "      border-bottom-color: var(--fill-color);\n",
              "    }\n",
              "  }\n",
              "</style>\n",
              "\n",
              "  <script>\n",
              "    async function quickchart(key) {\n",
              "      const quickchartButtonEl =\n",
              "        document.querySelector('#' + key + ' button');\n",
              "      quickchartButtonEl.disabled = true;  // To prevent multiple clicks.\n",
              "      quickchartButtonEl.classList.add('colab-df-spinner');\n",
              "      try {\n",
              "        const charts = await google.colab.kernel.invokeFunction(\n",
              "            'suggestCharts', [key], {});\n",
              "      } catch (error) {\n",
              "        console.error('Error during call to suggestCharts:', error);\n",
              "      }\n",
              "      quickchartButtonEl.classList.remove('colab-df-spinner');\n",
              "      quickchartButtonEl.classList.add('colab-df-quickchart-complete');\n",
              "    }\n",
              "    (() => {\n",
              "      let quickchartButtonEl =\n",
              "        document.querySelector('#df-c7718a17-b8df-4b69-a0d3-f7ff68573fff button');\n",
              "      quickchartButtonEl.style.display =\n",
              "        google.colab.kernel.accessAllowed ? 'block' : 'none';\n",
              "    })();\n",
              "  </script>\n",
              "</div>\n",
              "    </div>\n",
              "  </div>\n"
            ],
            "application/vnd.google.colaboratory.intrinsic+json": {
              "type": "dataframe",
              "variable_name": "df",
              "summary": "{\n  \"name\": \"df\",\n  \"rows\": 20000,\n  \"fields\": [\n    {\n      \"column\": \"artist\",\n      \"properties\": {\n        \"dtype\": \"category\",\n        \"num_unique_values\": 640,\n        \"samples\": [\n          \"Freestyle\",\n          \"Devo\",\n          \"Hank Snow\"\n        ],\n        \"semantic_type\": \"\",\n        \"description\": \"\"\n      }\n    },\n    {\n      \"column\": \"song\",\n      \"properties\": {\n        \"dtype\": \"string\",\n        \"num_unique_values\": 17616,\n        \"samples\": [\n          \"She\",\n          \"Heavenly Father, Holy Mother\",\n          \"Time Will Tell\"\n        ],\n        \"semantic_type\": \"\",\n        \"description\": \"\"\n      }\n    },\n    {\n      \"column\": \"text\",\n      \"properties\": {\n        \"dtype\": \"string\",\n        \"num_unique_values\": 19985,\n        \"samples\": [\n          \"You're playin' around with money and fear  \\r\\nAnd a power you can't control  \\r\\nAnd the zimmermen grin their perjured grins  \\r\\nSayin': there's no risk at all !  \\r\\nLook into the eyes of the next generation  \\r\\nI know you would never dare  \\r\\nYou're layin' the tracks  \\r\\nOf the ultimate sin  \\r\\nLike himmler and you don't care  \\r\\nIt only takes a few words  \\r\\nIt only takes a few  \\r\\nTo cut a long story short  \\r\\nIt only takes a few words...  \\r\\nOh my how it hurts..!  \\r\\nLook into the eyes of the next generation...  \\r\\nLook into the eyes of the next generation...  \\r\\nYor orders filtered through the ranks  \\r\\nIntentions you can't hide  \\r\\nWith tightened lips  \\r\\nYou're sinking ships  \\r\\nIn the shadows of the night  \\r\\nYou presidents of genocide  \\r\\nYou ministers of crime  \\r\\nYou're laughing at your firemen  \\r\\nFrom miles behind,  \\r\\nFrom miles behind the lines..!  \\r\\nIt only takes a few words  \\r\\nIt only takes a few  \\r\\nTo cut a long story short  \\r\\nIt only takes a few words...  \\r\\nOh my how it hurts..!\\r\\n\\r\\n\",\n          \"When we make love you know it feels so fine  \\r\\nAny way you want it baby I don't mind  \\r\\nAnything you do you know I can't complain  \\r\\nCome and kiss me honey, here I go again  \\r\\nI get a kind of power, don't know where it's from  \\r\\nOoee babe you turn my motor on  \\r\\nI get a kind of power, don't know where it's from  \\r\\nOoee babe you turn my motor on  \\r\\nWhen we have fun you it feels alright  \\r\\nWanna see you morning, afternoon and night  \\r\\nI don't care where, you know I don't mind when  \\r\\nJust arouse my interest, here I go again  \\r\\nI get a kind of power, don't know where it's from  \\r\\nOoee babe you turn my motor on  \\r\\nI get a kind of power, don't know where it's from  \\r\\nOoee babe you turn my motor on  \\r\\nWe're all alone now now baby please don't hide  \\r\\nCome on over here, I'm gonna swallow your pride  \\r\\nDon't act cool now baby, try romance  \\r\\nIt ain't every day that you get a chance like this baby  \\r\\nYou don't have to catch me, I ain't on the run  \\r\\nWho wants your brain, your body's too much fun  \\r\\nJust keep on smiling, you ain't in no pain  \\r\\nMove a little closer, here I go again  \\r\\nI get a kind of power, don't know where it's from  \\r\\nOoee babe you turn my motor on  \\r\\nI get a kind of power, don't know where it's from  \\r\\nOoee babe you turn my motor on  \\r\\nOohoo you turn my motor on  \\r\\nOohoohoo you turn my motor on  \\r\\n\\r\\n\",\n          \"This is a story about control,  \\r\\nMy control,  \\r\\nControl of what I say,  \\r\\nControl of what I do  \\r\\nAnd this time I'm gonna do it my way  \\r\\nI hope you enjoy this as much as I do,  \\r\\nAre we ready?  \\r\\nI am, 'cause it's all about control  \\r\\nand I've got lots of it  \\r\\n  \\r\\nWhen I was seventeen, I did what people told me, uh  \\r\\nI did what my father said, and let my mother mold me  \\r\\nBut that was a long ago  \\r\\n  \\r\\nI'm in (control), never gonna stop  \\r\\n(Control) to get what I want  \\r\\n(Control) I got to have a lot  \\r\\n(Control) and now I'm all grown up  \\r\\n  \\r\\nFirst time I fell in love  \\r\\nI didn't know what hit me  \\r\\nSo young and so naive  \\r\\nI thought it would be easy  \\r\\nBut now I know I've got to take  \\r\\n(Control) I know I've got a lot  \\r\\n(Control) to get what I want  \\r\\n(Control) I'm never gonna stop  \\r\\n(Control) and now I'm all grown up  \\r\\n  \\r\\nThat's right, I'm on my own,  \\r\\nI'll call my own shots, thank you  \\r\\n  \\r\\nGot my own mind,  \\r\\nI wanna make my own decisions,  \\r\\nWhen it has to do with my life, my life  \\r\\nI wanna be the one in control  \\r\\n  \\r\\nSo let me take you by the hand  \\r\\nAnd lead you on this dance  \\r\\nCause what I've got is because I took a chance  \\r\\nI don't wanna rule the world  \\r\\nJust wanna run my life  \\r\\nSo make your life a little easier  \\r\\nWhen you get the chance just take control  \\r\\n(Control) never got a lot  \\r\\n(Control) to get what I want  \\r\\n(Control) I'm never gonna stop  \\r\\n(Control) now I'm all grown up  \\r\\n  \\r\\nFree at last, out here on my own oh, yeah  \\r\\nNow control this  \\r\\nThat's right, get my own mind  \\r\\nGotta make my own decisions  \\r\\nWhen it has to do with my life  \\r\\nI wanna be the one in control  \\r\\n  \\r\\nI'm in control, whoa  \\r\\nI'm in control, ah  \\r\\nI'm in control, whoa  \\r\\nI'm in control, ah\\r\\n\\r\\n\"\n        ],\n        \"semantic_type\": \"\",\n        \"description\": \"\"\n      }\n    }\n  ]\n}"
            }
          },
          "metadata": {},
          "execution_count": 9
        }
      ],
      "source": [
        "df.head(10)"
      ],
      "id": "cf5ff69f"
    },
    {
      "cell_type": "code",
      "execution_count": null,
      "metadata": {
        "colab": {
          "base_uri": "https://localhost:8080/",
          "height": 110
        },
        "id": "26eb5b1c",
        "outputId": "590e9bf4-2d09-4359-da4a-7c620f8ce37c"
      },
      "outputs": [
        {
          "output_type": "execute_result",
          "data": {
            "text/plain": [
              "\"Just when everything was making sense.  \\r\\nYou took away all my self-confidence.  \\r\\nNow all that I've been hearing must be true.  \\r\\nI guess I'm not the only boy for you.  \\r\\n[Chorus:]  \\r\\nBut that's what I get  \\r\\nThat's what I get  \\r\\nThat's what I get  \\r\\nThat's what I get  \\r\\nHow could you turn us into this?  \\r\\nAfter you just taught me how to kiss you.  \\r\\nI told you I'd never say goodbye.  \\r\\nI'm slipping on the tears you made me cry.  \\r\\nBut that's what I get.  \\r\\nThat's what I get.  \\r\\nThat's what I get.  \\r\\nThat's what I get.  \\r\\nFor trusting you.  \\r\\nThat's what I get.  \\r\\nWhy does it come as a surprise.  \\r\\nTo think that I was so naive.  \\r\\nMaybe didn't mean too much.  \\r\\nBut it meant everything to me.  \\r\\n[Chorus:]\\r\\n\\r\\n\""
            ],
            "application/vnd.google.colaboratory.intrinsic+json": {
              "type": "string"
            }
          },
          "metadata": {},
          "execution_count": 10
        }
      ],
      "source": [
        "df['text'][0]"
      ],
      "id": "26eb5b1c"
    },
    {
      "cell_type": "code",
      "execution_count": null,
      "metadata": {
        "colab": {
          "base_uri": "https://localhost:8080/"
        },
        "id": "4a0c4186",
        "outputId": "96c93268-3e24-4ddd-e3f6-a3338f2d0e8b"
      },
      "outputs": [
        {
          "output_type": "execute_result",
          "data": {
            "text/plain": [
              "(20000, 3)"
            ]
          },
          "metadata": {},
          "execution_count": 11
        }
      ],
      "source": [
        "df.shape"
      ],
      "id": "4a0c4186"
    },
    {
      "cell_type": "markdown",
      "metadata": {
        "id": "865afecc"
      },
      "source": [
        "###**DATA PREPARATION AND CLEANING**"
      ],
      "id": "865afecc"
    },
    {
      "cell_type": "code",
      "execution_count": null,
      "metadata": {
        "id": "b2359525",
        "colab": {
          "base_uri": "https://localhost:8080/"
        },
        "outputId": "4f230d58-eb9f-488a-9dc8-3e73ee86915e"
      },
      "outputs": [
        {
          "output_type": "stream",
          "name": "stdout",
          "text": [
            "0        just when everything was making sense.  \\r you...\n",
            "1        now's all we got and time can't be bought.  \\r...\n",
            "2        baby please, please don't take your love from ...\n",
            "3        call of the wildest, it's got the best of you ...\n",
            "4        me and the wind are celebrating your loss  \\r ...\n",
            "                               ...                        \n",
            "19995    [chorus]  \\r come and go with me to doggyland!...\n",
            "19996    my stubborn will at last hath yielded  \\r i wo...\n",
            "19997    lonely i wander through scenes of my childhood...\n",
            "19998    i don't know what he does to make you cry  \\r ...\n",
            "19999    i've got a feeling. a feeling deep inside oh y...\n",
            "Name: text, Length: 20000, dtype: object\n"
          ]
        }
      ],
      "source": [
        "# Convert text column to lowercase and replace any non-word characters followed by a space with a space\n",
        "df['text'] = df['text'].str.lower().replace(r'^\\w\\s', ' ').replace(r'\\n', ' ', regex=True)\n",
        "\n",
        "# Print the modified text column\n",
        "print(df['text'])\n"
      ],
      "id": "b2359525"
    },
    {
      "cell_type": "code",
      "source": [
        "import nltk\n",
        "from nltk.stem.porter import PorterStemmer\n",
        "stemmer = PorterStemmer()\n",
        "\n",
        "# Download necessary resources for NLTK\n",
        "nltk.download('punkt')\n",
        "\n",
        "# Function for tokenization and stemming\n",
        "def tokenization(txt):\n",
        "    # Tokenize the text\n",
        "    tokens = nltk.word_tokenize(txt)\n",
        "    # Stem each token using Porter Stemmer\n",
        "    stemming = [stemmer.stem(w) for w in tokens]\n",
        "    # Join the stemmed tokens back into a single string\n",
        "    return \" \".join(stemming)\n"
      ],
      "metadata": {
        "colab": {
          "base_uri": "https://localhost:8080/"
        },
        "id": "N7WH5kTTVb1p",
        "outputId": "e7a4f6d3-1a06-4bfb-b9af-fe90b0a05d92"
      },
      "id": "N7WH5kTTVb1p",
      "execution_count": null,
      "outputs": [
        {
          "output_type": "stream",
          "name": "stderr",
          "text": [
            "[nltk_data] Downloading package punkt to /root/nltk_data...\n",
            "[nltk_data]   Package punkt is already up-to-date!\n"
          ]
        }
      ]
    },
    {
      "cell_type": "markdown",
      "source": [
        "#**Content based filtering based using cosine similarity**\n",
        "The cosine method for recommendation computes similarity between items (e.g., songs) based on the cosine of the angle between their feature vectors. In the context of text-based recommendation systems, it typically involves representing items as TF-IDF vectors and measuring the cosine similarity between them. This method is advantageous because it is robust to changes in the magnitude of the vectors and focuses on the directionality of the feature space, making it effective for capturing semantic similarity between items.\n",
        "\n",
        "---\n",
        "\n",
        "\n"
      ],
      "metadata": {
        "id": "hLppt_Yhlq69"
      },
      "id": "hLppt_Yhlq69"
    },
    {
      "cell_type": "code",
      "execution_count": null,
      "metadata": {
        "id": "95fc3be2"
      },
      "outputs": [],
      "source": [
        "from sklearn.feature_extraction.text import TfidfVectorizer\n",
        "from sklearn.metrics.pairwise import cosine_similarity"
      ],
      "id": "95fc3be2"
    },
    {
      "cell_type": "code",
      "execution_count": null,
      "metadata": {
        "id": "f4945e8f"
      },
      "outputs": [],
      "source": [
        "tfidvector = TfidfVectorizer(analyzer='word',stop_words='english')\n",
        "matrix = tfidvector.fit_transform(df['text'])\n",
        "similarity = cosine_similarity(matrix)"
      ],
      "id": "f4945e8f"
    },
    {
      "cell_type": "code",
      "execution_count": null,
      "metadata": {
        "colab": {
          "base_uri": "https://localhost:8080/"
        },
        "id": "c1794772",
        "outputId": "36367815-c3ef-47a6-c392-6536436ff17a"
      },
      "outputs": [
        {
          "output_type": "execute_result",
          "data": {
            "text/plain": [
              "array([1.        , 0.00390584, 0.01646471, ..., 0.        , 0.10963901,\n",
              "       0.01869509])"
            ]
          },
          "metadata": {},
          "execution_count": 16
        }
      ],
      "source": [
        "similarity[0]"
      ],
      "id": "c1794772"
    },
    {
      "cell_type": "code",
      "execution_count": null,
      "metadata": {
        "id": "5aaa2361"
      },
      "outputs": [],
      "source": [
        "def cosine_recommendation(song_df):\n",
        "    idx = df[df['song'] == song_df].index[0]\n",
        "    distances = sorted(list(enumerate(similarity[idx])),reverse=True,key=lambda x:x[1])\n",
        "\n",
        "    songs = []\n",
        "    for m_id in distances[1:6]:\n",
        "        songs.append(df.iloc[m_id[0]].song)\n",
        "\n",
        "    return songs\n"
      ],
      "id": "5aaa2361"
    },
    {
      "cell_type": "code",
      "source": [
        "cosine_recommendation('I Love You')\n"
      ],
      "metadata": {
        "colab": {
          "base_uri": "https://localhost:8080/"
        },
        "id": "EtbKAVp3S_V6",
        "outputId": "db4a33d6-3e9d-4d01-d339-c789de9c22e0"
      },
      "id": "EtbKAVp3S_V6",
      "execution_count": null,
      "outputs": [
        {
          "output_type": "execute_result",
          "data": {
            "text/plain": [
              "['Love To Love You Baby',\n",
              " 'Baby I Love You',\n",
              " 'Tell Me That You Love It',\n",
              " 'Baby, I Love You',\n",
              " 'Love Me Please']"
            ]
          },
          "metadata": {},
          "execution_count": 18
        }
      ]
    },
    {
      "cell_type": "markdown",
      "source": [
        "####**VALIDATION OF COSINE SIMILARITY METHOD**\n",
        "Since we're recommending songs based on the similarity of their lyrical content, similarity scores directly reflect the relevance of recommended songs to the query song. Higher similarity scores indicate songs with similar themes, emotions, or topics, which are more likely to resonate with the user's preferences therefore showing our model is precise.\n",
        "\n"
      ],
      "metadata": {
        "id": "dDzPtNxdU_Vi"
      },
      "id": "dDzPtNxdU_Vi"
    },
    {
      "cell_type": "code",
      "source": [
        "def cosine_recommendation(song_df):\n",
        "    global df, similarity\n",
        "\n",
        "    idx = df[df['song'] == song_df].index[0]\n",
        "    distances = sorted(list(enumerate(similarity[idx])), reverse=True, key=lambda x: x[1])\n",
        "\n",
        "    songs_with_scores = []\n",
        "    for m_id in distances[1:6]:\n",
        "        song_name = df.iloc[m_id[0]].song\n",
        "        similarity_score = m_id[1]\n",
        "        songs_with_scores.append((song_name, similarity_score))\n",
        "\n",
        "    return songs_with_scores\n",
        "\n",
        "\n",
        "recommendations = cosine_recommendation('I Love You')\n",
        "for song, score in recommendations:\n",
        "    print(\"Song:\", song, \"| Similarity Score:\", score)\n",
        "\n"
      ],
      "metadata": {
        "colab": {
          "base_uri": "https://localhost:8080/"
        },
        "id": "JUzdPCFHU75G",
        "outputId": "76121ef9-c3de-4503-9aa1-962a0d06222a"
      },
      "id": "JUzdPCFHU75G",
      "execution_count": null,
      "outputs": [
        {
          "output_type": "stream",
          "name": "stdout",
          "text": [
            "Song: Love To Love You Baby | Similarity Score: 0.7803773643965922\n",
            "Song: Baby I Love You | Similarity Score: 0.7017999691186463\n",
            "Song: Tell Me That You Love It | Similarity Score: 0.6565332399229549\n",
            "Song: Baby, I Love You | Similarity Score: 0.6515365570082235\n",
            "Song: Love Me Please | Similarity Score: 0.6436635225311862\n"
          ]
        }
      ]
    },
    {
      "cell_type": "markdown",
      "source": [
        "####**OPTIMIZATION OF COSINE SIMILARITY MODEL**\n",
        "\n",
        "We optimized the recommendation system by reducing the dimensionality of the TF-IDF matrix using the max_features parameter in TfidfVectorizer, thereby improving computational efficiency without significantly sacrificing the quality of recommendations."
      ],
      "metadata": {
        "id": "IAMOLB-sV3a3"
      },
      "id": "IAMOLB-sV3a3"
    },
    {
      "cell_type": "code",
      "source": [
        "from sklearn.feature_extraction.text import TfidfVectorizer\n",
        "from sklearn.metrics.pairwise import cosine_similarity\n",
        "import numpy as np\n",
        "\n",
        "# Initialize TF-IDF vectorizer with reduced dimensionality\n",
        "tfidf_vectorizer_opt = TfidfVectorizer(analyzer='word', stop_words='english', max_features=1000)\n",
        "\n",
        "# Compute TF-IDF matrix\n",
        "tfidf_matrix_opt = tfidf_vectorizer_opt.fit_transform(df['text'])\n",
        "\n",
        "# Compute cosine similarity matrix\n",
        "cosine_similarity_matrix_opt = cosine_similarity(tfidf_matrix_opt)\n",
        "\n",
        "# Example: Recommending songs using cosine similarity matrix\n",
        "def cosine_recommendation_opt(song_query, sim_matrix, data_frame):\n",
        "    song_index = data_frame[data_frame['song'] == song_query].index[0]\n",
        "    similarity_scores = sim_matrix[song_index]\n",
        "    similar_song_indices = similarity_scores.argsort()[::-1][1:6]  # Exclude the song itself\n",
        "    similar_songs = [data_frame.iloc[i]['song'] for i in similar_song_indices]\n",
        "    return similar_songs\n",
        "\n",
        "recommendations = cosine_recommendation_opt('I Love You', cosine_similarity_matrix_opt, df)\n",
        "for song in recommendations:\n",
        "    print(\"Recommended Song optimized:\", song)"
      ],
      "metadata": {
        "colab": {
          "base_uri": "https://localhost:8080/"
        },
        "id": "8rY8VG5tV4GL",
        "outputId": "dc2a8ecd-9f03-4372-ec12-825bf6138ac8"
      },
      "id": "8rY8VG5tV4GL",
      "execution_count": null,
      "outputs": [
        {
          "output_type": "stream",
          "name": "stdout",
          "text": [
            "Recommended Song optimized: Love To Love You Baby\n",
            "Recommended Song optimized: Love Me Please\n",
            "Recommended Song optimized: Baby I Love You\n",
            "Recommended Song optimized: I May Be Wrong, But I Won't Be Wrong Always\n",
            "Recommended Song optimized: Tell Me That You Love It\n"
          ]
        }
      ]
    },
    {
      "cell_type": "markdown",
      "source": [
        "####**VALIDATION** **OF** **OPTIMIZED** **COSINE** **METHOD**"
      ],
      "metadata": {
        "id": "6eyfDvHgcfGX"
      },
      "id": "6eyfDvHgcfGX"
    },
    {
      "cell_type": "code",
      "source": [
        "def cosine_recommendation_opt(song_df):\n",
        "    global df, cosine_similarity_matrix_opt\n",
        "\n",
        "    idx = df[df['song'] == song_df].index[0]\n",
        "    similarity_scores = cosine_similarity_matrix_opt[idx]\n",
        "    similar_song_indices = similarity_scores.argsort()[::-1][1:6]  # Exclude the song itself\n",
        "    songs_with_scores = [(df.iloc[i]['song'], similarity_scores[i]) for i in similar_song_indices]\n",
        "    return songs_with_scores\n",
        "\n",
        "# Example: Validate and print similarity scores for optimized cosine recommendation\n",
        "recommendations_opt = cosine_recommendation_opt('I Love You')\n",
        "for song, score in recommendations_opt:\n",
        "    print(\"Recommended Song (Optimized):\", song, \"| Similarity Score:\", score)\n"
      ],
      "metadata": {
        "colab": {
          "base_uri": "https://localhost:8080/"
        },
        "id": "bl3A5_2lcth9",
        "outputId": "3fcb5c6a-3c39-4d0a-c1dd-18e899bc91f8"
      },
      "id": "bl3A5_2lcth9",
      "execution_count": null,
      "outputs": [
        {
          "output_type": "stream",
          "name": "stdout",
          "text": [
            "Recommended Song (Optimized): Love To Love You Baby | Similarity Score: 0.8461836450695122\n",
            "Recommended Song (Optimized): Love Me Please | Similarity Score: 0.8067635597053199\n",
            "Recommended Song (Optimized): Baby I Love You | Similarity Score: 0.7769802481471502\n",
            "Recommended Song (Optimized): I May Be Wrong, But I Won't Be Wrong Always | Similarity Score: 0.72056992628981\n",
            "Recommended Song (Optimized): Tell Me That You Love It | Similarity Score: 0.7051574598099152\n"
          ]
        }
      ]
    },
    {
      "cell_type": "markdown",
      "source": [
        "As can be seen the optimised model provides higher similarity scores as compared to the un optimized model."
      ],
      "metadata": {
        "id": "rnkJzTXkhtj8"
      },
      "id": "rnkJzTXkhtj8"
    },
    {
      "cell_type": "markdown",
      "source": [
        "\n",
        "#**Content based filtering using Euclidean similarity**\n",
        "\n",
        "The Euclidean method for recommendation computes similarity between items (in this case, songs) based on the Euclidean distance between their feature representations. It calculates the distance between TF-IDF vectors representing the songs' textual content. The smaller the Euclidean distance, the more similar the items are. This method is often used in recommendation systems to find items that are geometrically close to each other in the feature space, indicating similarity.\n",
        "\n",
        "\n",
        "\n",
        "\n",
        "\n",
        "\n",
        "\n",
        "\n",
        "---\n",
        "\n",
        "\n",
        "\n"
      ],
      "metadata": {
        "id": "vR3_bSZ9PdJU"
      },
      "id": "vR3_bSZ9PdJU"
    },
    {
      "cell_type": "code",
      "source": [
        "from sklearn.feature_extraction.text import TfidfVectorizer\n",
        "from sklearn.metrics.pairwise import euclidean_distances\n",
        "import numpy as np\n",
        "\n",
        "# Define batch size\n",
        "batch_size = 1000\n",
        "\n",
        "# Initialize TF-IDF vectorizer with reduced dimensionality\n",
        "vectorizer = TfidfVectorizer(analyzer='word', stop_words='english', max_features=10000)\n",
        "\n",
        "# Initialize an empty array to store the Euclidean distance matrix\n",
        "euclidean_dist = np.zeros((len(df), len(df)))\n",
        "\n",
        "# Compute the Euclidean distance matrix in batches\n",
        "num_batches = len(df) // batch_size + 1\n",
        "for i in range(num_batches):\n",
        "    start_idx = i * batch_size\n",
        "    end_idx = min((i + 1) * batch_size, len(df))\n",
        "\n",
        "    # Extract documents for the current batch\n",
        "    documents_batch = df['text'].iloc[start_idx:end_idx]\n",
        "\n",
        "    # Check if the batch contains non-empty documents\n",
        "    if not documents_batch.empty:\n",
        "        # Compute TF-IDF matrix for the current batch\n",
        "        tfidf_batch = vectorizer.fit_transform(documents_batch)\n",
        "\n",
        "        # Compute Euclidean distances for the current batch and update the distance matrix\n",
        "        euclidean_dist_batch = euclidean_distances(tfidf_batch)\n",
        "        euclidean_dist[start_idx:end_idx, start_idx:end_idx] = euclidean_dist_batch\n",
        "\n",
        "# Print the first row of the Euclidean distance matrix\n",
        "print(\"Euclidean distance matrix (first row):\", euclidean_dist[0])\n"
      ],
      "metadata": {
        "colab": {
          "base_uri": "https://localhost:8080/"
        },
        "id": "njRybCkvPdvQ",
        "outputId": "8c47c7da-f64b-46e4-dbed-5461614e3153"
      },
      "id": "njRybCkvPdvQ",
      "execution_count": null,
      "outputs": [
        {
          "output_type": "stream",
          "name": "stdout",
          "text": [
            "Euclidean distance matrix (first row): [0.         1.41122395 1.40238581 ... 0.         0.         0.        ]\n"
          ]
        }
      ]
    },
    {
      "cell_type": "code",
      "source": [
        "def euclidean_recommendation(song_df, dist_matrix, data_frame):\n",
        "    idx = data_frame[data_frame['song'] == song_df].index[0]\n",
        "    distances = sorted(list(enumerate(dist_matrix[idx])), key=lambda x: x[1])\n",
        "\n",
        "    songs = []\n",
        "    for m_id in distances[1:6]:\n",
        "        songs.append(data_frame.iloc[m_id[0]]['song'])\n",
        "\n",
        "    return songs\n"
      ],
      "metadata": {
        "id": "d1qBbthyjxOn"
      },
      "id": "d1qBbthyjxOn",
      "execution_count": null,
      "outputs": []
    },
    {
      "cell_type": "code",
      "source": [
        "euclidean_recommendation('I Love You', euclidean_dist, df)\n"
      ],
      "metadata": {
        "colab": {
          "base_uri": "https://localhost:8080/"
        },
        "id": "X6CIA3UZjoWs",
        "outputId": "8e674477-7442-4b2c-fdbe-a2f8c8b3edac"
      },
      "id": "X6CIA3UZjoWs",
      "execution_count": null,
      "outputs": [
        {
          "output_type": "execute_result",
          "data": {
            "text/plain": [
              "['Love Will Remember',\n",
              " 'Heaven Knows',\n",
              " 'Fire In The Belly',\n",
              " 'Me And The Wind',\n",
              " 'Fight']"
            ]
          },
          "metadata": {},
          "execution_count": 25
        }
      ]
    },
    {
      "cell_type": "markdown",
      "source": [
        "####**VALIDATION OF EUCLIDEAN SIMILARITY METHOD**"
      ],
      "metadata": {
        "id": "K3hr1QTxSoyA"
      },
      "id": "K3hr1QTxSoyA"
    },
    {
      "cell_type": "code",
      "source": [
        "# Define batch size\n",
        "batch_size = 1000\n",
        "\n",
        "# Initialize an empty array to store similarity scores\n",
        "euclidean_sim = np.zeros((len(df), len(df)))\n",
        "\n",
        "# Compute similarity scores in batches\n",
        "num_batches = len(df) // batch_size + 1\n",
        "for i in range(num_batches):\n",
        "    start_idx = i * batch_size\n",
        "    end_idx = min((i + 1) * batch_size, len(df))\n",
        "\n",
        "    # Compute similarity scores for the current batch\n",
        "    euclidean_sim_batch = 1 / (1 + euclidean_dist[start_idx:end_idx])\n",
        "\n",
        "    # Update the similarity scores array\n",
        "    euclidean_sim[start_idx:end_idx] = euclidean_sim_batch\n",
        "\n",
        "# Print the similarity scores of the first 5 songs with other songs\n",
        "# Print the similarity scores of the first 5 songs with other songs\n",
        "print(\"Similarity scores based on Euclidean distances (first 5 songs):\")\n",
        "for i in range(5):\n",
        "    print(\"Song:\", df.iloc[i]['song'])\n",
        "    print(\"Similarity scores:\", euclidean_sim[i])\n",
        "    print()\n"
      ],
      "metadata": {
        "id": "I7uDju3dmRax",
        "colab": {
          "base_uri": "https://localhost:8080/"
        },
        "outputId": "ba0a7443-28b6-414b-f2e0-0a163ce9bd41"
      },
      "id": "I7uDju3dmRax",
      "execution_count": null,
      "outputs": [
        {
          "output_type": "stream",
          "name": "stdout",
          "text": [
            "Similarity scores based on Euclidean distances (first 5 songs):\n",
            "Song: That's What I Get\n",
            "Similarity scores: [1.         0.41472713 0.41625288 ... 1.         1.         1.        ]\n",
            "\n",
            "Song: Love Will Remember\n",
            "Similarity scores: [0.41472713 1.         0.42149793 ... 1.         1.         1.        ]\n",
            "\n",
            "Song: Heaven Knows\n",
            "Similarity scores: [0.41625288 0.42149793 1.         ... 1.         1.         1.        ]\n",
            "\n",
            "Song: Fire In The Belly\n",
            "Similarity scores: [0.41869941 0.41635262 0.41537861 ... 1.         1.         1.        ]\n",
            "\n",
            "Song: Me And The Wind\n",
            "Similarity scores: [0.41531528 0.41628336 0.41571483 ... 1.         1.         1.        ]\n",
            "\n"
          ]
        }
      ]
    },
    {
      "cell_type": "markdown",
      "source": [
        "To validate the Euclidean distance method, we used compute similarity scores based on the distances and interpreted them inversely. This means that smaller distances (closer to 0) represent higher similarity, while larger distances represent lower similarity."
      ],
      "metadata": {
        "id": "MeW_v23Emev6"
      },
      "id": "MeW_v23Emev6"
    },
    {
      "cell_type": "markdown",
      "source": [
        "####**OPTIMIZATION OF EUCLIDEAN SIMILARITY METHOD**"
      ],
      "metadata": {
        "id": "z2iSKPhzluKY"
      },
      "id": "z2iSKPhzluKY"
    },
    {
      "cell_type": "code",
      "source": [
        "from scipy.spatial.distance import squareform\n",
        "\n",
        "def compute_similarity_euclidean_optimized(df, batch_size=1000):\n",
        "    # Check if the DataFrame is empty\n",
        "    if df.empty:\n",
        "        raise ValueError(\"DataFrame is empty. Provide valid data.\")\n",
        "\n",
        "    # Check if the 'text' column exists\n",
        "    if 'text' not in df.columns:\n",
        "        raise ValueError(\"DataFrame does not contain a 'text' column.\")\n",
        "\n",
        "    # Extracting text data from the DataFrame\n",
        "    texts = df['text'].tolist()\n",
        "\n",
        "    vectorizer = TfidfVectorizer(analyzer='word', stop_words='english', max_features=10000)\n",
        "\n",
        "    # Compute TF-IDF matrix\n",
        "    tfidf = vectorizer.fit_transform(texts)\n",
        "\n",
        "    # Initialize an empty array to store similarity scores\n",
        "    euclidean_sim = np.zeros((len(df), len(df)))\n",
        "\n",
        "    # Computing similarity scores in batches\n",
        "    num_batches = len(df) // batch_size + 1\n",
        "    for i in range(num_batches):\n",
        "        start_idx = i * batch_size\n",
        "        end_idx = min((i + 1) * batch_size, len(df))\n",
        "\n",
        "        texts_batch = texts[start_idx:end_idx]\n",
        "\n",
        "        # Compute Euclidean distances for the current batch\n",
        "        euclidean_dist_batch = euclidean_distances(tfidf[start_idx:end_idx].T)\n",
        "\n",
        "        # Compute similarity scores from Euclidean distances\n",
        "        euclidean_sim_batch = 1 / (1 + euclidean_dist_batch)\n",
        "\n",
        "        # Reshape the batch similarity scores array to match the shape of the slice in the larger array\n",
        "        euclidean_sim[start_idx:end_idx, start_idx:end_idx] = euclidean_sim_batch.T\n",
        "\n",
        "    # Convert the distance matrix to a dense form\n",
        "    euclidean_sim = squareform(euclidean_sim)\n",
        "\n",
        "    return euclidean_sim"
      ],
      "metadata": {
        "id": "-jNwiIRplttp"
      },
      "id": "-jNwiIRplttp",
      "execution_count": null,
      "outputs": []
    },
    {
      "cell_type": "markdown",
      "source": [
        "####**VALIDATION OF OPTMIZED ECUCLIDEAN METHOD**"
      ],
      "metadata": {
        "id": "V-TbuswMnJwP"
      },
      "id": "V-TbuswMnJwP"
    },
    {
      "cell_type": "code",
      "source": [
        "def euclidean_recommendation_opt(song_df, sim_matrix, data_frame):\n",
        "    idx = data_frame[data_frame['song'] == song_df].index[0]\n",
        "    similarity_scores = sim_matrix[idx]\n",
        "    similar_song_indices = similarity_scores.argsort()[1:6]  # Exclude the song itself\n",
        "    songs_with_scores = [(data_frame.iloc[i]['song'], similarity_scores[i]) for i in similar_song_indices]\n",
        "    return songs_with_scores\n",
        "\n",
        "# Example: Validate and print similarity scores for optimized Euclidean recommendation\n",
        "recommendations_opt = euclidean_recommendation_opt('I Love You', euclidean_sim, df)\n",
        "for song, score in recommendations_opt:\n",
        "    print(\"Recommended Song (Optimized):\", song, \"| Similarity Score:\", score)\n"
      ],
      "metadata": {
        "id": "NzPpKPuInSRi",
        "colab": {
          "base_uri": "https://localhost:8080/"
        },
        "outputId": "f38efa64-3763-48aa-c0de-ef8b34df911b"
      },
      "id": "NzPpKPuInSRi",
      "execution_count": null,
      "outputs": [
        {
          "output_type": "stream",
          "name": "stdout",
          "text": [
            "Recommended Song (Optimized): Auld Lang Syne | Similarity Score: 0.4142135623730951\n",
            "Recommended Song (Optimized): Brutality Of Fact | Similarity Score: 0.4142135623730951\n",
            "Recommended Song (Optimized): Charlie Brown | Similarity Score: 0.4142135623730951\n",
            "Recommended Song (Optimized): The Spirit Horse Of The Cherokee | Similarity Score: 0.4142135623730951\n",
            "Recommended Song (Optimized): Basic J | Similarity Score: 0.4142135623730951\n"
          ]
        }
      ]
    },
    {
      "cell_type": "markdown",
      "source": [
        "**Euclidean distance may not be the best choice for measuring similarity between TF-IDF vectors, as it doesn't take into account the high dimensionality and sparse nature of these vectors.This makes cosine similaity the best choice.**"
      ],
      "metadata": {
        "id": "6nWK30iKxG1H"
      },
      "id": "6nWK30iKxG1H"
    },
    {
      "cell_type": "code",
      "source": [
        "import pickle\n",
        "pickle.dump(similarity,open('similarity.pkl','wb'))\n",
        "pickle.dump(df,open('df.pkl','wb'))"
      ],
      "metadata": {
        "id": "3H7kkdbeJtp1"
      },
      "id": "3H7kkdbeJtp1",
      "execution_count": null,
      "outputs": []
    },
    {
      "cell_type": "markdown",
      "source": [
        "###**SAVING THE MODEL FOR DEPLOYMENT**"
      ],
      "metadata": {
        "id": "yAyV5xGANbtc"
      },
      "id": "yAyV5xGANbtc"
    },
    {
      "cell_type": "code",
      "source": [
        "import shutil\n",
        "import os\n",
        "\n",
        "# List of files to include in the archive\n",
        "files_to_include = ['df.pkl', 'similarity.pkl']\n",
        "\n",
        "# Create a temporary directory\n",
        "temp_dir = '/content/temp_archive'\n",
        "os.makedirs(temp_dir, exist_ok=True)\n",
        "\n",
        "# Copy the selected files to the temporary directory\n",
        "for file in files_to_include:\n",
        "    shutil.copy(os.path.join('/content', file), os.path.join(temp_dir, file))\n",
        "\n",
        "# Archive the files in the temporary directory\n",
        "shutil.make_archive(\"/content/selected_files\", 'zip', temp_dir)\n",
        "\n",
        "# Remove the temporary directory and its contents\n",
        "shutil.rmtree(temp_dir)"
      ],
      "metadata": {
        "id": "KBFvVRE_LuWV"
      },
      "id": "KBFvVRE_LuWV",
      "execution_count": null,
      "outputs": []
    }
  ],
  "metadata": {
    "colab": {
      "provenance": []
    },
    "kernelspec": {
      "display_name": "Python 3",
      "name": "python3"
    },
    "language_info": {
      "codemirror_mode": {
        "name": "ipython",
        "version": 3
      },
      "file_extension": ".py",
      "mimetype": "text/x-python",
      "name": "python",
      "nbconvert_exporter": "python",
      "pygments_lexer": "ipython3",
      "version": "3.8.5"
    }
  },
  "nbformat": 4,
  "nbformat_minor": 5
}